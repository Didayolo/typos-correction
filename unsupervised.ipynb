{
 "cells": [
  {
   "cell_type": "markdown",
   "metadata": {},
   "source": [
    "# Apprentissage non-supervisé\n",
    "\n",
    "### Correction de fautes de frappe"
   ]
  },
  {
   "cell_type": "code",
   "execution_count": 1,
   "metadata": {
    "collapsed": true
   },
   "outputs": [],
   "source": [
    "import numpy as np\n",
    "import pandas as pd\n",
    "import pickle\n",
    "import time"
   ]
  },
  {
   "cell_type": "code",
   "execution_count": 2,
   "metadata": {},
   "outputs": [],
   "source": [
    "class HMM:\n",
    "\n",
    "    def __init__(self, A, B, pi):\n",
    "        self.A = A\n",
    "        self.B = B\n",
    "        self.pi = pi\n",
    "        \n",
    "\n",
    "    def forward(self, Y):\n",
    "        N = self.A.shape[0]\n",
    "        T = len(Y)\n",
    "\n",
    "        alpha = np.zeros([N,T])\n",
    "        alpha[:,0] = self.pi * self.B[:, Y[0]]\n",
    "\n",
    "        for t in range(1,T):\n",
    "            for i in range(N):\n",
    "                alpha[i,t] = self.B[i, Y[t]] * np.sum(alpha[:,t-1] * self.A[:,i])\n",
    "\n",
    "        return alpha\n",
    "\n",
    "    def backward(self, Y):\n",
    "        N = self.A.shape[0]\n",
    "        T = len(Y)\n",
    "\n",
    "        beta = np.zeros([N,T])\n",
    "        beta[:,-1] = 1\n",
    "\n",
    "        for t in range(T-2,-1,-1):\n",
    "            for i in range(N):\n",
    "                beta[i,t] = np.sum(beta[:,t+1] * self.A[i,:] * self.B[:, Y[t+1]])\n",
    "\n",
    "        return beta\n",
    "\n",
    "    def baum_welch_train(self, Y):\n",
    "        \n",
    "        # La mise a jour des parametres ne s'effectue pas correctement.\n",
    "        tps = time.clock()\n",
    "        N = self.A.shape[0]\n",
    "        T = len(Y)\n",
    "\n",
    "        # Effectuons les etapes de forward et backward\n",
    "        alpha = self.forward(Y)\n",
    "        beta = self.backward(Y)\n",
    "\n",
    "        # Stockons P( Y | theta )\n",
    "        Y_proba = np.sum(alpha[:,-1])\n",
    "\n",
    "        # Calculons gamma\n",
    "        gamma = alpha * beta / Y_proba\n",
    "        \n",
    "        # Calculons xi\n",
    "        xi = np.zeros([T-1, N, N])\n",
    "        for t in range(T-1):\n",
    "            xi[t,:,:] = (alpha[:,t] * self.A.T).T * beta[:, t+1] * self.B[:,Y[t+1]] / Y_proba\n",
    " \n",
    "        self.pi = gamma[:,0]\n",
    "        self.A = np.sum(xi,axis = 0)/np.sum(gamma[:,:-1],axis = 1)\n",
    "        \n",
    "        for i in range(N):\n",
    "            for t1 in range(T):\n",
    "                self.B[i,t1] = 0\n",
    "                ind = np.argwhere(Y == t1)\n",
    "                self.B[i,t1] += np.sum(gamma[i,ind])\n",
    "                self.B[i,t1]/= np.sum(gamma[i,:])\n",
    "                \n",
    "        print(\"Temps d'entrainement %.2fs\" %(time.clock()-tps))\n",
    "        \n",
    "        return self.A, self.B, self.pi\n",
    "        \n",
    "    def viterbi(self, Y):\n",
    "        N = self.A.shape[0]\n",
    "        T = len(Y)\n",
    "        old = np.zeros([T-1, N])\n",
    "\n",
    "        V = np.zeros((N, T))\n",
    "        V[:,0] = self.pi * self.B[:,Y[0]]\n",
    "\n",
    "        for t in range(1, T):\n",
    "            for n in range(N):\n",
    "                probas = V[:,t-1] * self.A[:,n] * self.B[n, Y[t]]\n",
    "                old[t-1,n] = np.argmax(probas)\n",
    "                V[n,t] = np.max(probas)\n",
    "\n",
    "        return V, old"
   ]
  },
  {
   "cell_type": "code",
   "execution_count": 3,
   "metadata": {},
   "outputs": [
    {
     "name": "stdout",
     "output_type": "stream",
     "text": [
      "Nombre de phrases totales = 30558\n",
      "Nombre de phrases de train = 29057\n",
      "Nombre de phrases de test  = 1501\n"
     ]
    }
   ],
   "source": [
    "path = 'typos-data/'\n",
    "\n",
    "# Données avec 10% de typos\n",
    "train10 = pickle.load(open(path+'train10.pkl', 'rb'))\n",
    "test10 = pickle.load(open(path+'test10.pkl', 'rb'))\n",
    "\n",
    "# Données avec 20% de typos\n",
    "train20 = pickle.load(open(path+'train20.pkl', 'rb'))\n",
    "test20 = pickle.load(open(path+'test20.pkl', 'rb'))\n",
    "\n",
    "train = train10\n",
    "test = test10\n",
    "\n",
    "tot = len(train + test)\n",
    "print (\"Nombre de phrases totales = \" + str(tot))\n",
    "print (\"Nombre de phrases de train = \" + str(len(train)))\n",
    "print (\"Nombre de phrases de test  = \" + str(len(test)))"
   ]
  },
  {
   "cell_type": "code",
   "execution_count": 4,
   "metadata": {},
   "outputs": [
    {
     "data": {
      "text/plain": [
       "['b',\n",
       " 'y',\n",
       " 't',\n",
       " 'h',\n",
       " 'e',\n",
       " 'i',\n",
       " 'r',\n",
       " 'o',\n",
       " 'w',\n",
       " 'n',\n",
       " 'a',\n",
       " 'c',\n",
       " 'v',\n",
       " 'o',\n",
       " 'u',\n",
       " 'n',\n",
       " 't']"
      ]
     },
     "execution_count": 4,
     "metadata": {},
     "output_type": "execute_result"
    }
   ],
   "source": [
    "temp = [[letter[0] for letter in word] for word in train10]\n",
    "texte = [letter for word in temp for letter in word]\n",
    "texte[:17]"
   ]
  },
  {
   "cell_type": "code",
   "execution_count": 6,
   "metadata": {},
   "outputs": [
    {
     "data": {
      "text/plain": [
       "0"
      ]
     },
     "execution_count": 6,
     "metadata": {},
     "output_type": "execute_result"
    }
   ],
   "source": [
    "alphabet = 'abcdefghijklmnopqrstuvwxyz'\n",
    "alphabet.index('a')"
   ]
  },
  {
   "cell_type": "code",
   "execution_count": 7,
   "metadata": {},
   "outputs": [
    {
     "name": "stdout",
     "output_type": "stream",
     "text": [
      "26\n",
      "143168\n"
     ]
    }
   ],
   "source": [
    "dic_len = len(np.unique(texte))\n",
    "texte_len = len(texte)\n",
    "print(dic_len)\n",
    "print(texte_len)"
   ]
  },
  {
   "cell_type": "code",
   "execution_count": 8,
   "metadata": {
    "collapsed": true
   },
   "outputs": [],
   "source": [
    "A_init = np.ones([dic_len,dic_len])/dic_len\n",
    "B_init = np.ones([dic_len,texte_len])/dic_len\n",
    "pi_init = np.ones(dic_len)/dic_len"
   ]
  },
  {
   "cell_type": "code",
   "execution_count": 9,
   "metadata": {},
   "outputs": [
    {
     "data": {
      "text/plain": [
       "[1, 24, 19, 7, 4, 8, 17, 14, 22, 13]"
      ]
     },
     "execution_count": 9,
     "metadata": {},
     "output_type": "execute_result"
    }
   ],
   "source": [
    "observations = [alphabet.index(letter) for letter in texte]\n",
    "observations[:10]"
   ]
  },
  {
   "cell_type": "code",
   "execution_count": 10,
   "metadata": {
    "scrolled": false
   },
   "outputs": [
    {
     "name": "stderr",
     "output_type": "stream",
     "text": [
      "/usr/local/lib/python2.7/dist-packages/ipykernel_launcher.py:50: RuntimeWarning: invalid value encountered in divide\n",
      "/usr/local/lib/python2.7/dist-packages/ipykernel_launcher.py:55: RuntimeWarning: invalid value encountered in divide\n"
     ]
    },
    {
     "name": "stdout",
     "output_type": "stream",
     "text": [
      "Temps d'entrainement 347.31s\n"
     ]
    }
   ],
   "source": [
    "hmm = HMM(A=A_init, B=B_init, pi = pi_init)\n",
    "\n",
    "A,B,pi = hmm.baum_welch_train(observations)"
   ]
  },
  {
   "cell_type": "code",
   "execution_count": 11,
   "metadata": {},
   "outputs": [
    {
     "data": {
      "text/plain": [
       "(array([[ nan,  nan,  nan, ...,  nan,  nan,  nan],\n",
       "        [ nan,  nan,  nan, ...,  nan,  nan,  nan],\n",
       "        [ nan,  nan,  nan, ...,  nan,  nan,  nan],\n",
       "        ..., \n",
       "        [ nan,  nan,  nan, ...,  nan,  nan,  nan],\n",
       "        [ nan,  nan,  nan, ...,  nan,  nan,  nan],\n",
       "        [ nan,  nan,  nan, ...,  nan,  nan,  nan]]),\n",
       " array([[ 0.,  0.,  0., ...,  0.,  0.,  0.],\n",
       "        [ 0.,  0.,  0., ...,  0.,  0.,  0.],\n",
       "        [ 0.,  0.,  0., ...,  0.,  0.,  0.],\n",
       "        ..., \n",
       "        [ 0.,  0.,  0., ...,  0.,  0.,  0.],\n",
       "        [ 0.,  0.,  0., ...,  0.,  0.,  0.],\n",
       "        [ 0.,  0.,  0., ...,  0.,  0.,  0.]]))"
      ]
     },
     "execution_count": 11,
     "metadata": {},
     "output_type": "execute_result"
    }
   ],
   "source": [
    "#On voit ici que l'apprentissage ne s'est pas bien effectue, donc l'algorithme de viterbi ne peut pas fonctionner\n",
    "hmm.viterbi(observations)"
   ]
  },
  {
   "cell_type": "code",
   "execution_count": null,
   "metadata": {
    "collapsed": true
   },
   "outputs": [],
   "source": []
  }
 ],
 "metadata": {
  "kernelspec": {
   "display_name": "Python 2",
   "language": "python",
   "name": "python2"
  },
  "language_info": {
   "codemirror_mode": {
    "name": "ipython",
    "version": 2
   },
   "file_extension": ".py",
   "mimetype": "text/x-python",
   "name": "python",
   "nbconvert_exporter": "python",
   "pygments_lexer": "ipython2",
   "version": "2.7.12"
  }
 },
 "nbformat": 4,
 "nbformat_minor": 1
}
